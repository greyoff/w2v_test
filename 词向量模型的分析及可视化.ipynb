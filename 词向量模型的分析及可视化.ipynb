{
 "cells": [
  {
   "cell_type": "markdown",
   "metadata": {},
   "source": [
    " # Word2Vec 词向量模型的分析及可视化\n",
    " 做三件事：  \n",
    " * 主成分分析\n",
    " * 成对的词的词向量的对应关系\n",
    " * 词向量的相关性分析"
   ]
  },
  {
   "cell_type": "code",
   "execution_count": 1,
   "metadata": {},
   "outputs": [
    {
     "name": "stderr",
     "output_type": "stream",
     "text": [
      "C:\\ProgramData\\Anaconda3\\lib\\site-packages\\gensim\\utils.py:1197: UserWarning: detected Windows; aliasing chunkize to chunkize_serial\n",
      "  warnings.warn(\"detected Windows; aliasing chunkize to chunkize_serial\")\n"
     ]
    },
    {
     "data": {
      "text/plain": [
       "'G:\\\\我的项目\\\\w2v_model'"
      ]
     },
     "execution_count": 1,
     "metadata": {},
     "output_type": "execute_result"
    }
   ],
   "source": [
    "import os\n",
    "import gensim\n",
    "import pandas as pd\n",
    "import numpy as np\n",
    "import matplotlib.pyplot as plt\n",
    "from sklearn.decomposition import PCA\n",
    "\n",
    "os.chdir('G:/我的项目/w2v_model')  #配置工作路径\n",
    "os.getcwd()"
   ]
  },
  {
   "cell_type": "code",
   "execution_count": 2,
   "metadata": {},
   "outputs": [],
   "source": [
    "def model_load(model_dir):\n",
    "    model_type = os.path.splitext(model_dir)[-1]\n",
    "    if model_type == '.gz' or model_type == '.bin':\n",
    "        model = gensim.models.KeyedVectors.load_word2vec_format(model_dir, binary=True)\n",
    "    else:\n",
    "        model = gensim.models.Word2Vec.load(model_dir)\n",
    "    return model"
   ]
  },
  {
   "cell_type": "code",
   "execution_count": 3,
   "metadata": {},
   "outputs": [],
   "source": [
    "# 载入词向量模型\n",
    "model1_dir = './my_news_model_size200_win5'\n",
    "model2_dir = './my_news_model_size400_win5'\n",
    "model3_dir = './word2vec_779845.bin'\n",
    "\n",
    "model1 = model_load(model1_dir)\n",
    "model2 = model_load(model2_dir)\n",
    "model3 = model_load(model3_dir)"
   ]
  },
  {
   "attachments": {},
   "cell_type": "markdown",
   "metadata": {},
   "source": [
    "## 主成分分析\n",
    "\n",
    "* 选取一些不同类别的词，进行主成分分析，如下表所示"
   ]
  },
  {
   "cell_type": "code",
   "execution_count": 62,
   "metadata": {},
   "outputs": [
    {
     "data": {
      "text/html": [
       "<div>\n",
       "<style scoped>\n",
       "    .dataframe tbody tr th:only-of-type {\n",
       "        vertical-align: middle;\n",
       "    }\n",
       "\n",
       "    .dataframe tbody tr th {\n",
       "        vertical-align: top;\n",
       "    }\n",
       "\n",
       "    .dataframe thead th {\n",
       "        text-align: right;\n",
       "    }\n",
       "</style>\n",
       "<table border=\"1\" class=\"dataframe\">\n",
       "  <thead>\n",
       "    <tr style=\"text-align: right;\">\n",
       "      <th></th>\n",
       "      <th>0</th>\n",
       "      <th>1</th>\n",
       "      <th>2</th>\n",
       "      <th>3</th>\n",
       "      <th>4</th>\n",
       "      <th>5</th>\n",
       "      <th>6</th>\n",
       "    </tr>\n",
       "  </thead>\n",
       "  <tbody>\n",
       "    <tr>\n",
       "      <th>0</th>\n",
       "      <td>酸</td>\n",
       "      <td>中国</td>\n",
       "      <td>北京</td>\n",
       "      <td>足球</td>\n",
       "      <td>洗澡</td>\n",
       "      <td>生气</td>\n",
       "      <td>数学</td>\n",
       "    </tr>\n",
       "    <tr>\n",
       "      <th>1</th>\n",
       "      <td>甜</td>\n",
       "      <td>美国</td>\n",
       "      <td>上海</td>\n",
       "      <td>篮球</td>\n",
       "      <td>睡觉</td>\n",
       "      <td>愤怒</td>\n",
       "      <td>英语</td>\n",
       "    </tr>\n",
       "    <tr>\n",
       "      <th>2</th>\n",
       "      <td>鲜</td>\n",
       "      <td>日本</td>\n",
       "      <td>纽约</td>\n",
       "      <td>乒乓球</td>\n",
       "      <td>吃饭</td>\n",
       "      <td>伤心</td>\n",
       "      <td>语文</td>\n",
       "    </tr>\n",
       "    <tr>\n",
       "      <th>3</th>\n",
       "      <td>咸</td>\n",
       "      <td>德国</td>\n",
       "      <td>成都</td>\n",
       "      <td>羽毛球</td>\n",
       "      <td>喝水</td>\n",
       "      <td>悲伤</td>\n",
       "      <td>化学</td>\n",
       "    </tr>\n",
       "    <tr>\n",
       "      <th>4</th>\n",
       "      <td>辣</td>\n",
       "      <td>南非</td>\n",
       "      <td>洛杉矶</td>\n",
       "      <td>橄榄球</td>\n",
       "      <td>散步</td>\n",
       "      <td>开心</td>\n",
       "      <td>生物</td>\n",
       "    </tr>\n",
       "    <tr>\n",
       "      <th>5</th>\n",
       "      <td>苦</td>\n",
       "      <td>墨西哥</td>\n",
       "      <td>东京</td>\n",
       "      <td>游泳</td>\n",
       "      <td>刷牙</td>\n",
       "      <td>厌恶</td>\n",
       "      <td>物理</td>\n",
       "    </tr>\n",
       "  </tbody>\n",
       "</table>\n",
       "</div>"
      ],
      "text/plain": [
       "   0    1    2    3   4   5   6\n",
       "0  酸   中国   北京   足球  洗澡  生气  数学\n",
       "1  甜   美国   上海   篮球  睡觉  愤怒  英语\n",
       "2  鲜   日本   纽约  乒乓球  吃饭  伤心  语文\n",
       "3  咸   德国   成都  羽毛球  喝水  悲伤  化学\n",
       "4  辣   南非  洛杉矶  橄榄球  散步  开心  生物\n",
       "5  苦  墨西哥   东京   游泳  刷牙  厌恶  物理"
      ]
     },
     "execution_count": 62,
     "metadata": {},
     "output_type": "execute_result"
    }
   ],
   "source": [
    "# 读取数据\n",
    "word_data = pd.read_excel('../data/word.xlsx')\n",
    "word_data # [6, 7]"
   ]
  },
  {
   "cell_type": "code",
   "execution_count": 63,
   "metadata": {},
   "outputs": [],
   "source": [
    "words = []\n",
    "labels = []\n",
    "for i in range(7):\n",
    "    words.extend(list(word_data[i]))\n",
    "    labels.extend([i]*6)"
   ]
  },
  {
   "cell_type": "code",
   "execution_count": 64,
   "metadata": {},
   "outputs": [
    {
     "data": {
      "text/plain": [
       "(42, 200)"
      ]
     },
     "execution_count": 64,
     "metadata": {},
     "output_type": "execute_result"
    }
   ],
   "source": [
    "word_vectors = [model1.wv[word] for word in words]\n",
    "word_vectors = np.array(word_vectors)\n",
    "word_vectors.shape"
   ]
  },
  {
   "cell_type": "code",
   "execution_count": 65,
   "metadata": {},
   "outputs": [
    {
     "data": {
      "text/plain": [
       "(42, 2)"
      ]
     },
     "execution_count": 65,
     "metadata": {},
     "output_type": "execute_result"
    }
   ],
   "source": [
    "pca=PCA(n_components=2)\n",
    "reduced_wv=pca.fit_transform(word_vectors)\n",
    "reduced_wv.shape"
   ]
  },
  {
   "cell_type": "code",
   "execution_count": 71,
   "metadata": {},
   "outputs": [
    {
     "data": {
      "image/png": "[encoded data removed]",
      "text/plain": [
       "<Figure size 720x504 with 1 Axes>"
      ]
     },
     "metadata": {
      "needs_background": "light"
     },
     "output_type": "display_data"
    }
   ],
   "source": [
    "plt.rcParams['font.sans-serif']=['SimHei']  # 显示中文\n",
    "plt.figure(figsize=(10, 7))\n",
    "colors = ['r', 'g', 'b', 'y', 'purple', 'grey', 'orange'] # 分别对应 7 个类\n",
    "for i in range(7):\n",
    "    plt.scatter(reduced_wv[i*6:(i+1)*6, 0], reduced_wv[i*6:(i+1)*6, 1], c=colors[i], marker='x')\n",
    "for i in range(42):\n",
    "    plt.annotate(words[i],(reduced_wv[i,0], reduced_wv[i,1]))\n",
    "plt.show()"
   ]
  },
  {
   "cell_type": "markdown",
   "metadata": {},
   "source": [
    "## 成对的词向量的对应关系\n",
    "* 展示几对有相关对应关系的词的词向量\n",
    "* 作图试试效果，发现效果不行"
   ]
  },
  {
   "cell_type": "code",
   "execution_count": 75,
   "metadata": {},
   "outputs": [
    {
     "data": {
      "text/plain": [
       "[('女孩', 0.5978807210922241),\n",
       " ('孩子', 0.5473445653915405),\n",
       " ('女孩子', 0.5164199471473694),\n",
       " ('妈妈', 0.4991588592529297),\n",
       " ('少男少女', 0.4840826988220215),\n",
       " ('娃娃', 0.48124992847442627),\n",
       " ('男生', 0.47845596075057983),\n",
       " ('宝宝', 0.4762493371963501),\n",
       " ('小学生', 0.474548876285553),\n",
       " ('同龄', 0.46975159645080566)]"
      ]
     },
     "execution_count": 75,
     "metadata": {},
     "output_type": "execute_result"
    }
   ],
   "source": [
    "model1.wv.most_similar(positive=['男人', '男孩'], negative=['女人'])  "
   ]
  },
  {
   "cell_type": "code",
   "execution_count": 83,
   "metadata": {},
   "outputs": [
    {
     "data": {
      "text/plain": [
       "[('男人', 0.7024085521697998),\n",
       " ('女孩子', 0.5559526681900024),\n",
       " ('她们', 0.5473035573959351),\n",
       " ('女子', 0.5407193899154663),\n",
       " ('小帅哥', 0.5370581746101379),\n",
       " ('女孩', 0.5316846370697021),\n",
       " ('风情万种', 0.530553936958313),\n",
       " ('老公', 0.5066920518875122),\n",
       " ('已婚', 0.5053443312644958),\n",
       " ('性无能', 0.4997332692146301)]"
      ]
     },
     "execution_count": 83,
     "metadata": {},
     "output_type": "execute_result"
    }
   ],
   "source": [
    "model1.wv.most_similar(positive=['女王', '女人'], negative=['国王'])  "
   ]
  },
  {
   "cell_type": "code",
   "execution_count": 79,
   "metadata": {},
   "outputs": [
    {
     "data": {
      "text/plain": [
       "[('Revolution', 0.4801178574562073),\n",
       " ('PS3', 0.46778205037117004),\n",
       " ('游戏机', 0.45218202471733093),\n",
       " ('Anywhere', 0.4372313320636749),\n",
       " ('Xbox', 0.433488130569458),\n",
       " ('意指', 0.41062748432159424),\n",
       " ('双内核', 0.3991053104400635),\n",
       " ('Search', 0.39206457138061523),\n",
       " ('IE7.0', 0.3891012966632843),\n",
       " ('canard', 0.3866819441318512)]"
      ]
     },
     "execution_count": 79,
     "metadata": {},
     "output_type": "execute_result"
    }
   ],
   "source": [
    "model1.wv.most_similar(positive=['任天堂', 'Wii'], negative=['索尼'])  "
   ]
  },
  {
   "cell_type": "code",
   "execution_count": 95,
   "metadata": {},
   "outputs": [
    {
     "data": {
      "text/plain": [
       "(18, 2)"
      ]
     },
     "execution_count": 95,
     "metadata": {},
     "output_type": "execute_result"
    }
   ],
   "source": [
    "word_test = ['男人','男孩','王子','国王','女人','女孩','公主','女王','高','矮','胖','瘦','美','丑','高兴','悲伤','微笑','哭泣']\n",
    "word_test_vec = [model1.wv[word] for word in word_test]\n",
    "reduced_wv2=pca.fit_transform(word_test_vec)\n",
    "reduced_wv2.shape"
   ]
  },
  {
   "cell_type": "code",
   "execution_count": null,
   "metadata": {},
   "outputs": [],
   "source": [
    "plt.rcParams['font.sans-serif']=['SimHei']  # 显示中文\n",
    "plt.figure(figsize=(10, 7))\n",
    "plt.scatter(reduced_wv2[:, 0], reduced_wv2[:, 1], c='r', marker='x')\n",
    "for i in range(len(word_test)):\n",
    "    plt.annotate(word_test[i],(reduced_wv2[i,0], reduced_wv2[i,1]))\n",
    "plt.show()"
   ]
  },
  {
   "cell_type": "markdown",
   "metadata": {},
   "source": [
    "效果不行啊算了"
   ]
  },
  {
   "cell_type": "markdown",
   "metadata": {},
   "source": [
    "## 词向量的相关性分析\n",
    "* 结合人的对词语的相关性判断分析模型结果，作图"
   ]
  },
  {
   "cell_type": "code",
   "execution_count": 156,
   "metadata": {},
   "outputs": [
    {
     "data": {
      "text/html": [
       "<div>\n",
       "<style scoped>\n",
       "    .dataframe tbody tr th:only-of-type {\n",
       "        vertical-align: middle;\n",
       "    }\n",
       "\n",
       "    .dataframe tbody tr th {\n",
       "        vertical-align: top;\n",
       "    }\n",
       "\n",
       "    .dataframe thead th {\n",
       "        text-align: right;\n",
       "    }\n",
       "</style>\n",
       "<table border=\"1\" class=\"dataframe\">\n",
       "  <thead>\n",
       "    <tr style=\"text-align: right;\">\n",
       "      <th></th>\n",
       "      <th>A</th>\n",
       "      <th>B</th>\n",
       "      <th>similarity</th>\n",
       "    </tr>\n",
       "  </thead>\n",
       "  <tbody>\n",
       "    <tr>\n",
       "      <th>0</th>\n",
       "      <td>桌子</td>\n",
       "      <td>板凳</td>\n",
       "      <td>8</td>\n",
       "    </tr>\n",
       "    <tr>\n",
       "      <th>1</th>\n",
       "      <td>键盘</td>\n",
       "      <td>鼠标</td>\n",
       "      <td>7</td>\n",
       "    </tr>\n",
       "    <tr>\n",
       "      <th>2</th>\n",
       "      <td>苹果</td>\n",
       "      <td>橙子</td>\n",
       "      <td>8</td>\n",
       "    </tr>\n",
       "    <tr>\n",
       "      <th>3</th>\n",
       "      <td>西瓜</td>\n",
       "      <td>哈密瓜</td>\n",
       "      <td>8</td>\n",
       "    </tr>\n",
       "    <tr>\n",
       "      <th>4</th>\n",
       "      <td>羊肉</td>\n",
       "      <td>牛肉</td>\n",
       "      <td>8</td>\n",
       "    </tr>\n",
       "    <tr>\n",
       "      <th>5</th>\n",
       "      <td>项链</td>\n",
       "      <td>手链</td>\n",
       "      <td>7</td>\n",
       "    </tr>\n",
       "    <tr>\n",
       "      <th>6</th>\n",
       "      <td>茶叶</td>\n",
       "      <td>果汁</td>\n",
       "      <td>6</td>\n",
       "    </tr>\n",
       "    <tr>\n",
       "      <th>7</th>\n",
       "      <td>咖啡</td>\n",
       "      <td>糖</td>\n",
       "      <td>5</td>\n",
       "    </tr>\n",
       "    <tr>\n",
       "      <th>8</th>\n",
       "      <td>茶</td>\n",
       "      <td>咖啡</td>\n",
       "      <td>7</td>\n",
       "    </tr>\n",
       "    <tr>\n",
       "      <th>9</th>\n",
       "      <td>钥匙</td>\n",
       "      <td>锁</td>\n",
       "      <td>8</td>\n",
       "    </tr>\n",
       "    <tr>\n",
       "      <th>10</th>\n",
       "      <td>笔</td>\n",
       "      <td>本子</td>\n",
       "      <td>5</td>\n",
       "    </tr>\n",
       "    <tr>\n",
       "      <th>11</th>\n",
       "      <td>钱包</td>\n",
       "      <td>钱</td>\n",
       "      <td>7</td>\n",
       "    </tr>\n",
       "    <tr>\n",
       "      <th>12</th>\n",
       "      <td>书包</td>\n",
       "      <td>背包</td>\n",
       "      <td>8</td>\n",
       "    </tr>\n",
       "    <tr>\n",
       "      <th>13</th>\n",
       "      <td>洗发水</td>\n",
       "      <td>护发素</td>\n",
       "      <td>8</td>\n",
       "    </tr>\n",
       "    <tr>\n",
       "      <th>14</th>\n",
       "      <td>香皂</td>\n",
       "      <td>泡沫</td>\n",
       "      <td>4</td>\n",
       "    </tr>\n",
       "    <tr>\n",
       "      <th>15</th>\n",
       "      <td>开心</td>\n",
       "      <td>伤心</td>\n",
       "      <td>8</td>\n",
       "    </tr>\n",
       "    <tr>\n",
       "      <th>16</th>\n",
       "      <td>书本</td>\n",
       "      <td>笔记本</td>\n",
       "      <td>5</td>\n",
       "    </tr>\n",
       "    <tr>\n",
       "      <th>17</th>\n",
       "      <td>化妆</td>\n",
       "      <td>卸妆</td>\n",
       "      <td>6</td>\n",
       "    </tr>\n",
       "    <tr>\n",
       "      <th>18</th>\n",
       "      <td>衣柜</td>\n",
       "      <td>书柜</td>\n",
       "      <td>5</td>\n",
       "    </tr>\n",
       "    <tr>\n",
       "      <th>19</th>\n",
       "      <td>手机</td>\n",
       "      <td>电脑</td>\n",
       "      <td>7</td>\n",
       "    </tr>\n",
       "    <tr>\n",
       "      <th>20</th>\n",
       "      <td>拖鞋</td>\n",
       "      <td>皮鞋</td>\n",
       "      <td>6</td>\n",
       "    </tr>\n",
       "    <tr>\n",
       "      <th>21</th>\n",
       "      <td>围巾</td>\n",
       "      <td>手套</td>\n",
       "      <td>7</td>\n",
       "    </tr>\n",
       "    <tr>\n",
       "      <th>22</th>\n",
       "      <td>滑雪</td>\n",
       "      <td>游泳</td>\n",
       "      <td>6</td>\n",
       "    </tr>\n",
       "    <tr>\n",
       "      <th>23</th>\n",
       "      <td>我</td>\n",
       "      <td>你</td>\n",
       "      <td>9</td>\n",
       "    </tr>\n",
       "    <tr>\n",
       "      <th>24</th>\n",
       "      <td>清华大学</td>\n",
       "      <td>北京大学</td>\n",
       "      <td>9</td>\n",
       "    </tr>\n",
       "    <tr>\n",
       "      <th>25</th>\n",
       "      <td>腾讯</td>\n",
       "      <td>网易</td>\n",
       "      <td>8</td>\n",
       "    </tr>\n",
       "    <tr>\n",
       "      <th>26</th>\n",
       "      <td>任天堂</td>\n",
       "      <td>索尼</td>\n",
       "      <td>8</td>\n",
       "    </tr>\n",
       "    <tr>\n",
       "      <th>27</th>\n",
       "      <td>愤怒</td>\n",
       "      <td>游泳</td>\n",
       "      <td>1</td>\n",
       "    </tr>\n",
       "    <tr>\n",
       "      <th>28</th>\n",
       "      <td>新闻</td>\n",
       "      <td>模型</td>\n",
       "      <td>1</td>\n",
       "    </tr>\n",
       "    <tr>\n",
       "      <th>29</th>\n",
       "      <td>书本</td>\n",
       "      <td>跑车</td>\n",
       "      <td>1</td>\n",
       "    </tr>\n",
       "    <tr>\n",
       "      <th>30</th>\n",
       "      <td>北京</td>\n",
       "      <td>上海</td>\n",
       "      <td>9</td>\n",
       "    </tr>\n",
       "    <tr>\n",
       "      <th>31</th>\n",
       "      <td>北京</td>\n",
       "      <td>故宫</td>\n",
       "      <td>6</td>\n",
       "    </tr>\n",
       "    <tr>\n",
       "      <th>32</th>\n",
       "      <td>洗衣粉</td>\n",
       "      <td>衣服</td>\n",
       "      <td>6</td>\n",
       "    </tr>\n",
       "    <tr>\n",
       "      <th>33</th>\n",
       "      <td>跑步</td>\n",
       "      <td>健康</td>\n",
       "      <td>5</td>\n",
       "    </tr>\n",
       "    <tr>\n",
       "      <th>34</th>\n",
       "      <td>工资</td>\n",
       "      <td>上班</td>\n",
       "      <td>7</td>\n",
       "    </tr>\n",
       "    <tr>\n",
       "      <th>35</th>\n",
       "      <td>书法</td>\n",
       "      <td>国画</td>\n",
       "      <td>8</td>\n",
       "    </tr>\n",
       "    <tr>\n",
       "      <th>36</th>\n",
       "      <td>手机</td>\n",
       "      <td>橙子</td>\n",
       "      <td>2</td>\n",
       "    </tr>\n",
       "    <tr>\n",
       "      <th>37</th>\n",
       "      <td>钱包</td>\n",
       "      <td>笔记本</td>\n",
       "      <td>4</td>\n",
       "    </tr>\n",
       "    <tr>\n",
       "      <th>38</th>\n",
       "      <td>门</td>\n",
       "      <td>苹果</td>\n",
       "      <td>2</td>\n",
       "    </tr>\n",
       "    <tr>\n",
       "      <th>39</th>\n",
       "      <td>羊肉</td>\n",
       "      <td>鼠标</td>\n",
       "      <td>0</td>\n",
       "    </tr>\n",
       "    <tr>\n",
       "      <th>40</th>\n",
       "      <td>桌子</td>\n",
       "      <td>书包</td>\n",
       "      <td>5</td>\n",
       "    </tr>\n",
       "    <tr>\n",
       "      <th>41</th>\n",
       "      <td>睫毛膏</td>\n",
       "      <td>果汁</td>\n",
       "      <td>0</td>\n",
       "    </tr>\n",
       "    <tr>\n",
       "      <th>42</th>\n",
       "      <td>花生</td>\n",
       "      <td>锁</td>\n",
       "      <td>0</td>\n",
       "    </tr>\n",
       "    <tr>\n",
       "      <th>43</th>\n",
       "      <td>糖</td>\n",
       "      <td>手链</td>\n",
       "      <td>0</td>\n",
       "    </tr>\n",
       "    <tr>\n",
       "      <th>44</th>\n",
       "      <td>钱包</td>\n",
       "      <td>哈密瓜</td>\n",
       "      <td>1</td>\n",
       "    </tr>\n",
       "    <tr>\n",
       "      <th>45</th>\n",
       "      <td>洗衣粉</td>\n",
       "      <td>背包</td>\n",
       "      <td>3</td>\n",
       "    </tr>\n",
       "    <tr>\n",
       "      <th>46</th>\n",
       "      <td>卸妆</td>\n",
       "      <td>硬盘</td>\n",
       "      <td>0</td>\n",
       "    </tr>\n",
       "    <tr>\n",
       "      <th>47</th>\n",
       "      <td>电脑</td>\n",
       "      <td>柚子</td>\n",
       "      <td>0</td>\n",
       "    </tr>\n",
       "    <tr>\n",
       "      <th>48</th>\n",
       "      <td>衣柜</td>\n",
       "      <td>护发素</td>\n",
       "      <td>3</td>\n",
       "    </tr>\n",
       "    <tr>\n",
       "      <th>49</th>\n",
       "      <td>书柜</td>\n",
       "      <td>手机</td>\n",
       "      <td>1</td>\n",
       "    </tr>\n",
       "    <tr>\n",
       "      <th>50</th>\n",
       "      <td>中国</td>\n",
       "      <td>包子</td>\n",
       "      <td>5</td>\n",
       "    </tr>\n",
       "    <tr>\n",
       "      <th>51</th>\n",
       "      <td>手套</td>\n",
       "      <td>书本</td>\n",
       "      <td>2</td>\n",
       "    </tr>\n",
       "    <tr>\n",
       "      <th>52</th>\n",
       "      <td>化妆水</td>\n",
       "      <td>感冒药</td>\n",
       "      <td>3</td>\n",
       "    </tr>\n",
       "    <tr>\n",
       "      <th>53</th>\n",
       "      <td>学校</td>\n",
       "      <td>老师</td>\n",
       "      <td>6</td>\n",
       "    </tr>\n",
       "    <tr>\n",
       "      <th>54</th>\n",
       "      <td>悲伤</td>\n",
       "      <td>难过</td>\n",
       "      <td>9</td>\n",
       "    </tr>\n",
       "    <tr>\n",
       "      <th>55</th>\n",
       "      <td>感冒</td>\n",
       "      <td>咳嗽</td>\n",
       "      <td>8</td>\n",
       "    </tr>\n",
       "    <tr>\n",
       "      <th>56</th>\n",
       "      <td>中国</td>\n",
       "      <td>美国</td>\n",
       "      <td>8</td>\n",
       "    </tr>\n",
       "    <tr>\n",
       "      <th>57</th>\n",
       "      <td>可乐</td>\n",
       "      <td>饮料</td>\n",
       "      <td>6</td>\n",
       "    </tr>\n",
       "    <tr>\n",
       "      <th>58</th>\n",
       "      <td>睡觉</td>\n",
       "      <td>休息</td>\n",
       "      <td>9</td>\n",
       "    </tr>\n",
       "    <tr>\n",
       "      <th>59</th>\n",
       "      <td>面粉</td>\n",
       "      <td>小麦</td>\n",
       "      <td>7</td>\n",
       "    </tr>\n",
       "  </tbody>\n",
       "</table>\n",
       "</div>"
      ],
      "text/plain": [
       "       A     B  similarity\n",
       "0     桌子    板凳           8\n",
       "1     键盘    鼠标           7\n",
       "2     苹果    橙子           8\n",
       "3     西瓜   哈密瓜           8\n",
       "4     羊肉    牛肉           8\n",
       "5     项链    手链           7\n",
       "6     茶叶    果汁           6\n",
       "7     咖啡     糖           5\n",
       "8      茶    咖啡           7\n",
       "9     钥匙     锁           8\n",
       "10     笔    本子           5\n",
       "11    钱包     钱           7\n",
       "12    书包    背包           8\n",
       "13   洗发水   护发素           8\n",
       "14    香皂    泡沫           4\n",
       "15    开心    伤心           8\n",
       "16    书本   笔记本           5\n",
       "17    化妆    卸妆           6\n",
       "18    衣柜    书柜           5\n",
       "19    手机    电脑           7\n",
       "20    拖鞋    皮鞋           6\n",
       "21    围巾    手套           7\n",
       "22    滑雪    游泳           6\n",
       "23     我     你           9\n",
       "24  清华大学  北京大学           9\n",
       "25    腾讯    网易           8\n",
       "26   任天堂    索尼           8\n",
       "27    愤怒    游泳           1\n",
       "28    新闻    模型           1\n",
       "29    书本    跑车           1\n",
       "30    北京    上海           9\n",
       "31    北京    故宫           6\n",
       "32   洗衣粉    衣服           6\n",
       "33    跑步    健康           5\n",
       "34    工资    上班           7\n",
       "35    书法    国画           8\n",
       "36    手机    橙子           2\n",
       "37    钱包   笔记本           4\n",
       "38     门    苹果           2\n",
       "39    羊肉    鼠标           0\n",
       "40    桌子    书包           5\n",
       "41   睫毛膏    果汁           0\n",
       "42    花生     锁           0\n",
       "43     糖    手链           0\n",
       "44    钱包   哈密瓜           1\n",
       "45   洗衣粉    背包           3\n",
       "46    卸妆    硬盘           0\n",
       "47    电脑    柚子           0\n",
       "48    衣柜   护发素           3\n",
       "49    书柜    手机           1\n",
       "50    中国    包子           5\n",
       "51    手套    书本           2\n",
       "52   化妆水   感冒药           3\n",
       "53    学校    老师           6\n",
       "54    悲伤    难过           9\n",
       "55    感冒    咳嗽           8\n",
       "56    中国    美国           8\n",
       "57    可乐    饮料           6\n",
       "58    睡觉    休息           9\n",
       "59    面粉    小麦           7"
      ]
     },
     "execution_count": 156,
     "metadata": {},
     "output_type": "execute_result"
    }
   ],
   "source": [
    "pair_word = pd.read_excel('../data/pair_word.xlsx')\n",
    "pair_word"
   ]
  },
  {
   "cell_type": "code",
   "execution_count": 153,
   "metadata": {},
   "outputs": [],
   "source": [
    "corr = [model1.wv.similarity(a,b) for a,b in zip(pair_word['A'], pair_word['B'])]\n",
    "pair_word['correlation'] = corr"
   ]
  },
  {
   "cell_type": "code",
   "execution_count": 154,
   "metadata": {},
   "outputs": [
    {
     "data": {
      "image/png": "[encoded data removed]",
      "text/plain": [
       "<Figure size 720x504 with 1 Axes>"
      ]
     },
     "metadata": {
      "needs_background": "light"
     },
     "output_type": "display_data"
    }
   ],
   "source": [
    "plt.rcParams['font.sans-serif']=['SimHei']  # 显示中文\n",
    "plt.figure(figsize=(10, 7))\n",
    "plt.scatter(pair_word['similarity'],pair_word['correlation'], c='r', marker='x')\n",
    "plt.show()"
   ]
  },
  {
   "cell_type": "code",
   "execution_count": null,
   "metadata": {},
   "outputs": [],
   "source": []
  }
 ],
 "metadata": {
  "kernelspec": {
   "display_name": "Python 3",
   "language": "python",
   "name": "python3"
  },
  "language_info": {
   "codemirror_mode": {
    "name": "ipython",
    "version": 3
   },
   "file_extension": ".py",
   "mimetype": "text/x-python",
   "name": "python",
   "nbconvert_exporter": "python",
   "pygments_lexer": "ipython3",
   "version": "3.6.7"
  }
 },
 "nbformat": 4,
 "nbformat_minor": 2
}
